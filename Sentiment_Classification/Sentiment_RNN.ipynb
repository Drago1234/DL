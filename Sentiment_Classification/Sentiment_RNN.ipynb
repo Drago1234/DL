{
 "cells": [
  {
   "cell_type": "markdown",
   "metadata": {
    "deletable": true,
    "editable": true
   },
   "source": [
    "# Sentiment Analysis with an RNN"
   ]
  },
  {
   "cell_type": "code",
   "execution_count": 1,
   "metadata": {
    "collapsed": true,
    "deletable": true,
    "editable": true
   },
   "outputs": [],
   "source": [
    "import numpy as np\n",
    "import tensorflow as tf"
   ]
  },
  {
   "cell_type": "code",
   "execution_count": 2,
   "metadata": {
    "collapsed": false,
    "deletable": true,
    "editable": true
   },
   "outputs": [],
   "source": [
    "with open('../sentiment_network/reviews.txt', 'r') as f:\n",
    "    reviews = f.read()\n",
    "with open('../sentiment_network/labels.txt', 'r') as f:\n",
    "    labels = f.read()"
   ]
  },
  {
   "cell_type": "code",
   "execution_count": null,
   "metadata": {
    "collapsed": false,
    "deletable": true,
    "editable": true
   },
   "outputs": [],
   "source": [
    "reviews[:2000]"
   ]
  },
  {
   "cell_type": "code",
   "execution_count": null,
   "metadata": {
    "collapsed": false
   },
   "outputs": [],
   "source": [
    "labels[:100]"
   ]
  },
  {
   "cell_type": "markdown",
   "metadata": {
    "deletable": true,
    "editable": true
   },
   "source": [
    "## Data preprocessing"
   ]
  },
  {
   "cell_type": "code",
   "execution_count": 3,
   "metadata": {
    "collapsed": true,
    "deletable": true,
    "editable": true
   },
   "outputs": [],
   "source": [
    "from string import punctuation\n",
    "all_text = ''.join([c for c in reviews if c not in punctuation])\n",
    "reviews = all_text.split('\\n')\n",
    "\n",
    "all_text = ' '.join(reviews)\n",
    "words = all_text.split()"
   ]
  },
  {
   "cell_type": "code",
   "execution_count": null,
   "metadata": {
    "collapsed": false,
    "deletable": true,
    "editable": true
   },
   "outputs": [],
   "source": [
    "all_text[:2000]"
   ]
  },
  {
   "cell_type": "code",
   "execution_count": null,
   "metadata": {
    "collapsed": false,
    "deletable": true,
    "editable": true
   },
   "outputs": [],
   "source": [
    "words[:100]"
   ]
  },
  {
   "cell_type": "markdown",
   "metadata": {
    "deletable": true,
    "editable": true
   },
   "source": [
    "#### Encoding the words"
   ]
  },
  {
   "cell_type": "code",
   "execution_count": 4,
   "metadata": {
    "collapsed": true,
    "deletable": true,
    "editable": true
   },
   "outputs": [],
   "source": [
    "from collections import Counter\n",
    "counts = Counter(words)\n",
    "vocab = sorted(counts, key=counts.get, reverse=True)\n",
    "\n",
    "# Create dictionary that maps vocab words to integers\n",
    "vocab_to_int = {word: i for i, word in enumerate(vocab, 1)}\n",
    "\n",
    "# Convert the reviews to integers, same shape as reviews list, but with integers\n",
    "reviews_ints = []\n",
    "for each in reviews:\n",
    "    reviews_ints.append([vocab_to_int[word] for word in each.split()])"
   ]
  },
  {
   "cell_type": "markdown",
   "metadata": {
    "collapsed": false,
    "deletable": true,
    "editable": true
   },
   "source": [
    "#### Encoding the labels"
   ]
  },
  {
   "cell_type": "code",
   "execution_count": 5,
   "metadata": {
    "collapsed": false,
    "deletable": true,
    "editable": true
   },
   "outputs": [],
   "source": [
    "# Convert labels to 1s and 0s for 'positive' and 'negative'\n",
    "labels = labels.split('\\n')\n",
    "labels = np.array([1 if each == 'positive' else 0 for each in labels])"
   ]
  },
  {
   "cell_type": "code",
   "execution_count": 6,
   "metadata": {
    "collapsed": false,
    "deletable": true,
    "editable": true
   },
   "outputs": [
    {
     "name": "stdout",
     "output_type": "stream",
     "text": [
      "Zero-length reviews: 1\n",
      "Maximum review length: 2514\n"
     ]
    }
   ],
   "source": [
    "from collections import Counter\n",
    "review_lens = Counter([len(x) for x in reviews_ints])\n",
    "print(\"Zero-length reviews: {}\".format(review_lens[0]))\n",
    "print(\"Maximum review length: {}\".format(max(review_lens)))"
   ]
  },
  {
   "cell_type": "code",
   "execution_count": 8,
   "metadata": {
    "collapsed": false,
    "deletable": true,
    "editable": true
   },
   "outputs": [],
   "source": [
    "# Filter out that review with 0 length\n",
    "reviews_ints = [each for each in reviews_ints if len(each) > 0]"
   ]
  },
  {
   "cell_type": "code",
   "execution_count": 9,
   "metadata": {
    "collapsed": false,
    "deletable": true,
    "editable": true
   },
   "outputs": [],
   "source": [
    "# Each row should be 200 elements long\n",
    "seq_len = 200\n",
    "features =  np.zeros((len(reviews), seq_len), dtype=int)\n",
    "\n",
    "for i, row in enumerate(reviews_ints):\n",
    "    features[i, -len(row):] = np.array(row)[:seq_len]"
   ]
  },
  {
   "cell_type": "code",
   "execution_count": null,
   "metadata": {
    "collapsed": false,
    "deletable": true,
    "editable": true,
    "scrolled": true
   },
   "outputs": [],
   "source": [
    "features[:10,:100]"
   ]
  },
  {
   "cell_type": "markdown",
   "metadata": {
    "deletable": true,
    "editable": true
   },
   "source": [
    "#### Training, Validation, Test"
   ]
  },
  {
   "cell_type": "code",
   "execution_count": 12,
   "metadata": {
    "collapsed": false,
    "deletable": true,
    "editable": true
   },
   "outputs": [
    {
     "name": "stdout",
     "output_type": "stream",
     "text": [
      "\t\t\tFeature Shapes:\n",
      "Train set: \t\t(20000, 200) \n",
      "Validation set: \t(2500, 200) \n",
      "Test set: \t\t(2501, 200)\n"
     ]
    }
   ],
   "source": [
    "split_frac = 0.8\n",
    "idx1 = int(len(features)*0.8)\n",
    "idx2 = int(len(features)*0.9)\n",
    "\n",
    "train_x, val_x, test_x = features[:idx1], features[idx1:idx2], features[idx2:]\n",
    "train_y, val_y, test_y = labels[:idx1], labels[idx1:idx2], labels[idx2:]\n",
    "\n",
    "print(\"\\t\\t\\tFeature Shapes:\")\n",
    "print(\"Train set: \\t\\t{}\".format(train_x.shape), \n",
    "      \"\\nValidation set: \\t{}\".format(val_x.shape),\n",
    "      \"\\nTest set: \\t\\t{}\".format(test_x.shape))"
   ]
  },
  {
   "cell_type": "markdown",
   "metadata": {},
   "source": [
    "## Build the graph"
   ]
  },
  {
   "cell_type": "markdown",
   "metadata": {
    "deletable": true,
    "editable": true
   },
   "source": [
    "#### Define the hyperparameters.\n",
    "\n",
    "* `lstm_size`: Number of units in the hidden layers in the LSTM cells. Usually larger is better performance wise. Common values are 128, 256, 512, etc.\n",
    "* `lstm_layers`: Number of LSTM layers in the network. \n",
    "* `batch_size`: The number of reviews to feed the network in one training pass. Typically this should be set as high as you can go without running out of memory.\n",
    "* `learning_rate`: Learning rate"
   ]
  },
  {
   "cell_type": "code",
   "execution_count": 15,
   "metadata": {
    "collapsed": true,
    "deletable": true,
    "editable": true
   },
   "outputs": [],
   "source": [
    "lstm_size = 256\n",
    "lstm_layers = 1\n",
    "batch_size = 512\n",
    "learning_rate = 0.001"
   ]
  },
  {
   "cell_type": "markdown",
   "metadata": {
    "deletable": true,
    "editable": true
   },
   "source": [
    "#### Initialize the graph"
   ]
  },
  {
   "cell_type": "code",
   "execution_count": 13,
   "metadata": {
    "collapsed": false,
    "deletable": true,
    "editable": true
   },
   "outputs": [],
   "source": [
    "n_words = len(vocab)\n",
    "\n",
    "# Create the graph object\n",
    "graph = tf.Graph()\n",
    "# Add nodes to the graph\n",
    "with graph.as_default():\n",
    "    inputs_ = tf.placeholder(tf.int32, [None, None], name='inputs')\n",
    "    labels_ = tf.placeholder(tf.int32, [None, None], name='labels')\n",
    "    keep_prob = tf.placeholder(tf.float32, name='keep_prob')"
   ]
  },
  {
   "cell_type": "markdown",
   "metadata": {
    "deletable": true,
    "editable": true
   },
   "source": [
    "#### Embedding"
   ]
  },
  {
   "cell_type": "code",
   "execution_count": 14,
   "metadata": {
    "collapsed": false,
    "deletable": true,
    "editable": true
   },
   "outputs": [],
   "source": [
    "# Size of the embedding vectors (number of units in the embedding layer)\n",
    "embed_size = 300 \n",
    "\n",
    "with graph.as_default():\n",
    "    embedding = tf.Variable(tf.random_uniform((n_words, embed_size), -1, 1))\n",
    "    embed = tf.nn.embedding_lookup(embedding, inputs_)"
   ]
  },
  {
   "cell_type": "markdown",
   "metadata": {
    "deletable": true,
    "editable": true
   },
   "source": [
    "#### LSTM cell"
   ]
  },
  {
   "cell_type": "code",
   "execution_count": 16,
   "metadata": {
    "collapsed": false,
    "deletable": true,
    "editable": true
   },
   "outputs": [],
   "source": [
    "with graph.as_default():\n",
    "    # Basic LSTM cell\n",
    "    lstm = tf.contrib.rnn.BasicLSTMCell(lstm_size)    \n",
    "    # Add dropout to the cell\n",
    "    drop = tf.contrib.rnn.DropoutWrapper(lstm, output_keep_prob=keep_prob)    \n",
    "    # Stack up multiple LSTM layers, for deep learning\n",
    "    cell = tf.contrib.rnn.MultiRNNCell([drop] * lstm_layers)    \n",
    "    # Getting an initial state of all zeros\n",
    "    initial_state = cell.zero_state(batch_size, tf.float32)"
   ]
  },
  {
   "cell_type": "markdown",
   "metadata": {
    "deletable": true,
    "editable": true
   },
   "source": [
    "#### RNN forward pass"
   ]
  },
  {
   "cell_type": "code",
   "execution_count": 17,
   "metadata": {
    "collapsed": false,
    "deletable": true,
    "editable": true
   },
   "outputs": [],
   "source": [
    "with graph.as_default():\n",
    "    outputs, final_state = tf.nn.dynamic_rnn(cell, embed, initial_state=initial_state)"
   ]
  },
  {
   "cell_type": "markdown",
   "metadata": {
    "deletable": true,
    "editable": true
   },
   "source": [
    "#### Output"
   ]
  },
  {
   "cell_type": "code",
   "execution_count": 18,
   "metadata": {
    "collapsed": false,
    "deletable": true,
    "editable": true
   },
   "outputs": [],
   "source": [
    "with graph.as_default():\n",
    "    predictions = tf.contrib.layers.fully_connected(outputs[:, -1], 1, activation_fn=tf.sigmoid)\n",
    "    cost = tf.losses.mean_squared_error(labels_, predictions)\n",
    "    \n",
    "    optimizer = tf.train.AdamOptimizer(learning_rate).minimize(cost)"
   ]
  },
  {
   "cell_type": "markdown",
   "metadata": {
    "deletable": true,
    "editable": true
   },
   "source": [
    "#### Validation accuracy"
   ]
  },
  {
   "cell_type": "code",
   "execution_count": 19,
   "metadata": {
    "collapsed": false,
    "deletable": true,
    "editable": true
   },
   "outputs": [],
   "source": [
    "with graph.as_default():\n",
    "    correct_pred = tf.equal(tf.cast(tf.round(predictions), tf.int32), labels_)\n",
    "    accuracy = tf.reduce_mean(tf.cast(correct_pred, tf.float32))"
   ]
  },
  {
   "cell_type": "markdown",
   "metadata": {
    "deletable": true,
    "editable": true
   },
   "source": [
    "#### Batching\n",
    "\n",
    "This is a simple function for returning batches from our data. First it removes data such that we only have full batches. Then it iterates through the `x` and `y` arrays and returns slices out of those arrays with size `[batch_size]`."
   ]
  },
  {
   "cell_type": "code",
   "execution_count": 20,
   "metadata": {
    "collapsed": true,
    "deletable": true,
    "editable": true
   },
   "outputs": [],
   "source": [
    "def get_batches(x, y, batch_size=100):\n",
    "    \n",
    "    n_batches = len(x)//batch_size\n",
    "    x, y = x[:n_batches*batch_size], y[:n_batches*batch_size]\n",
    "    for ii in range(0, len(x), batch_size):\n",
    "        yield x[ii:ii+batch_size], y[ii:ii+batch_size]"
   ]
  },
  {
   "cell_type": "markdown",
   "metadata": {
    "deletable": true,
    "editable": true
   },
   "source": [
    "## Training"
   ]
  },
  {
   "cell_type": "code",
   "execution_count": 21,
   "metadata": {
    "collapsed": false,
    "deletable": true,
    "editable": true
   },
   "outputs": [
    {
     "name": "stdout",
     "output_type": "stream",
     "text": [
      "Epoch: 0/10 Iteration: 5 Train loss: 0.243\n",
      "Epoch: 0/10 Iteration: 10 Train loss: 0.242\n",
      "Epoch: 0/10 Iteration: 15 Train loss: 0.216\n",
      "Epoch: 0/10 Iteration: 20 Train loss: 0.204\n",
      "Epoch: 0/10 Iteration: 25 Train loss: 0.397\n",
      "Val acc: 0.560\n",
      "Epoch: 0/10 Iteration: 30 Train loss: 0.239\n",
      "Epoch: 0/10 Iteration: 35 Train loss: 0.240\n",
      "Epoch: 1/10 Iteration: 40 Train loss: 0.219\n",
      "Epoch: 1/10 Iteration: 45 Train loss: 0.216\n",
      "Epoch: 1/10 Iteration: 50 Train loss: 0.212\n",
      "Val acc: 0.631\n",
      "Epoch: 1/10 Iteration: 55 Train loss: 0.220\n",
      "Epoch: 1/10 Iteration: 60 Train loss: 0.182\n",
      "Epoch: 1/10 Iteration: 65 Train loss: 0.150\n",
      "Epoch: 1/10 Iteration: 70 Train loss: 0.176\n",
      "Epoch: 1/10 Iteration: 75 Train loss: 0.175\n",
      "Val acc: 0.755\n",
      "Epoch: 2/10 Iteration: 80 Train loss: 0.149\n",
      "Epoch: 2/10 Iteration: 85 Train loss: 0.143\n",
      "Epoch: 2/10 Iteration: 90 Train loss: 0.167\n",
      "Epoch: 2/10 Iteration: 95 Train loss: 0.138\n",
      "Epoch: 2/10 Iteration: 100 Train loss: 0.153\n",
      "Val acc: 0.740\n",
      "Epoch: 2/10 Iteration: 105 Train loss: 0.187\n",
      "Epoch: 2/10 Iteration: 110 Train loss: 0.208\n",
      "Epoch: 2/10 Iteration: 115 Train loss: 0.168\n",
      "Epoch: 3/10 Iteration: 120 Train loss: 0.142\n",
      "Epoch: 3/10 Iteration: 125 Train loss: 0.158\n",
      "Val acc: 0.756\n",
      "Epoch: 3/10 Iteration: 130 Train loss: 0.142\n",
      "Epoch: 3/10 Iteration: 135 Train loss: 0.150\n",
      "Epoch: 3/10 Iteration: 140 Train loss: 0.172\n",
      "Epoch: 3/10 Iteration: 145 Train loss: 0.160\n",
      "Epoch: 3/10 Iteration: 150 Train loss: 0.168\n",
      "Val acc: 0.706\n",
      "Epoch: 3/10 Iteration: 155 Train loss: 0.160\n",
      "Epoch: 4/10 Iteration: 160 Train loss: 0.125\n",
      "Epoch: 4/10 Iteration: 165 Train loss: 0.134\n",
      "Epoch: 4/10 Iteration: 170 Train loss: 0.129\n",
      "Epoch: 4/10 Iteration: 175 Train loss: 0.106\n",
      "Val acc: 0.779\n",
      "Epoch: 4/10 Iteration: 180 Train loss: 0.100\n",
      "Epoch: 4/10 Iteration: 185 Train loss: 0.145\n",
      "Epoch: 4/10 Iteration: 190 Train loss: 0.179\n",
      "Epoch: 4/10 Iteration: 195 Train loss: 0.314\n",
      "Epoch: 5/10 Iteration: 200 Train loss: 0.148\n",
      "Val acc: 0.724\n",
      "Epoch: 5/10 Iteration: 205 Train loss: 0.188\n",
      "Epoch: 5/10 Iteration: 210 Train loss: 0.136\n",
      "Epoch: 5/10 Iteration: 215 Train loss: 0.129\n",
      "Epoch: 5/10 Iteration: 220 Train loss: 0.117\n",
      "Epoch: 5/10 Iteration: 225 Train loss: 0.124\n",
      "Val acc: 0.785\n",
      "Epoch: 5/10 Iteration: 230 Train loss: 0.186\n",
      "Epoch: 6/10 Iteration: 235 Train loss: 0.144\n",
      "Epoch: 6/10 Iteration: 240 Train loss: 0.154\n",
      "Epoch: 6/10 Iteration: 245 Train loss: 0.156\n",
      "Epoch: 6/10 Iteration: 250 Train loss: 0.155\n",
      "Val acc: 0.722\n",
      "Epoch: 6/10 Iteration: 255 Train loss: 0.118\n",
      "Epoch: 6/10 Iteration: 260 Train loss: 0.122\n",
      "Epoch: 6/10 Iteration: 265 Train loss: 0.110\n",
      "Epoch: 6/10 Iteration: 270 Train loss: 0.103\n",
      "Epoch: 7/10 Iteration: 275 Train loss: 0.098\n",
      "Val acc: 0.792\n",
      "Epoch: 7/10 Iteration: 280 Train loss: 0.099\n",
      "Epoch: 7/10 Iteration: 285 Train loss: 0.114\n",
      "Epoch: 7/10 Iteration: 290 Train loss: 0.084\n",
      "Epoch: 7/10 Iteration: 295 Train loss: 0.073\n",
      "Epoch: 7/10 Iteration: 300 Train loss: 0.083\n",
      "Val acc: 0.811\n",
      "Epoch: 7/10 Iteration: 305 Train loss: 0.094\n",
      "Epoch: 7/10 Iteration: 310 Train loss: 0.059\n",
      "Epoch: 8/10 Iteration: 315 Train loss: 0.094\n",
      "Epoch: 8/10 Iteration: 320 Train loss: 0.089\n",
      "Epoch: 8/10 Iteration: 325 Train loss: 0.066\n",
      "Val acc: 0.802\n",
      "Epoch: 8/10 Iteration: 330 Train loss: 0.050\n",
      "Epoch: 8/10 Iteration: 335 Train loss: 0.050\n",
      "Epoch: 8/10 Iteration: 340 Train loss: 0.064\n",
      "Epoch: 8/10 Iteration: 345 Train loss: 0.144\n",
      "Epoch: 8/10 Iteration: 350 Train loss: 0.089\n",
      "Val acc: 0.828\n",
      "Epoch: 9/10 Iteration: 355 Train loss: 0.058\n",
      "Epoch: 9/10 Iteration: 360 Train loss: 0.065\n",
      "Epoch: 9/10 Iteration: 365 Train loss: 0.069\n",
      "Epoch: 9/10 Iteration: 370 Train loss: 0.046\n",
      "Epoch: 9/10 Iteration: 375 Train loss: 0.055\n",
      "Val acc: 0.828\n",
      "Epoch: 9/10 Iteration: 380 Train loss: 0.074\n",
      "Epoch: 9/10 Iteration: 385 Train loss: 0.066\n",
      "Epoch: 9/10 Iteration: 390 Train loss: 0.058\n"
     ]
    }
   ],
   "source": [
    "epochs = 10\n",
    "\n",
    "with graph.as_default():\n",
    "    saver = tf.train.Saver()\n",
    "\n",
    "with tf.Session(graph=graph) as sess:\n",
    "    sess.run(tf.global_variables_initializer())\n",
    "    iteration = 1\n",
    "    for e in range(epochs):\n",
    "        state = sess.run(initial_state)\n",
    "        \n",
    "        for ii, (x, y) in enumerate(get_batches(train_x, train_y, batch_size), 1):\n",
    "            feed = {inputs_: x,\n",
    "                    labels_: y[:, None],\n",
    "                    keep_prob: 0.5,\n",
    "                    initial_state: state}\n",
    "            loss, state, _ = sess.run([cost, final_state, optimizer], feed_dict=feed)\n",
    "            \n",
    "            if iteration%5==0:\n",
    "                print(\"Epoch: {}/{}\".format(e, epochs),\n",
    "                      \"Iteration: {}\".format(iteration),\n",
    "                      \"Train loss: {:.3f}\".format(loss))\n",
    "\n",
    "            if iteration%25==0:\n",
    "                val_acc = []\n",
    "                val_state = sess.run(cell.zero_state(batch_size, tf.float32))\n",
    "                for x, y in get_batches(val_x, val_y, batch_size):\n",
    "                    feed = {inputs_: x,\n",
    "                            labels_: y[:, None],\n",
    "                            keep_prob: 1,\n",
    "                            initial_state: val_state}\n",
    "                    batch_acc, val_state = sess.run([accuracy, final_state], feed_dict=feed)\n",
    "                    val_acc.append(batch_acc)\n",
    "                print(\"Val acc: {:.3f}\".format(np.mean(val_acc)))\n",
    "            iteration +=1\n",
    "    saver.save(sess, \"checkpoints/sentiment.ckpt\")"
   ]
  },
  {
   "cell_type": "markdown",
   "metadata": {
    "deletable": true,
    "editable": true
   },
   "source": [
    "## Testing"
   ]
  },
  {
   "cell_type": "code",
   "execution_count": null,
   "metadata": {
    "collapsed": false,
    "deletable": true,
    "editable": true
   },
   "outputs": [],
   "source": [
    "test_acc = []\n",
    "with tf.Session(graph=graph) as sess:\n",
    "    saver.restore(sess, tf.train.latest_checkpoint('/output/checkpoints'))\n",
    "    test_state = sess.run(cell.zero_state(batch_size, tf.float32))\n",
    "    for ii, (x, y) in enumerate(get_batches(test_x, test_y, batch_size), 1):\n",
    "        feed = {inputs_: x,\n",
    "                labels_: y[:, None],\n",
    "                keep_prob: 1,\n",
    "                initial_state: test_state}\n",
    "        batch_acc, test_state = sess.run([accuracy, final_state], feed_dict=feed)\n",
    "        test_acc.append(batch_acc)\n",
    "    print(\"Test accuracy: {:.3f}\".format(np.mean(test_acc)))"
   ]
  },
  {
   "cell_type": "code",
   "execution_count": null,
   "metadata": {
    "collapsed": true
   },
   "outputs": [],
   "source": []
  }
 ],
 "metadata": {
  "kernelspec": {
   "display_name": "Python 3",
   "language": "python",
   "name": "python3"
  },
  "language_info": {
   "codemirror_mode": {
    "name": "ipython",
    "version": 3
   },
   "file_extension": ".py",
   "mimetype": "text/x-python",
   "name": "python",
   "nbconvert_exporter": "python",
   "pygments_lexer": "ipython3",
   "version": "3.6.0"
  }
 },
 "nbformat": 4,
 "nbformat_minor": 2
}
