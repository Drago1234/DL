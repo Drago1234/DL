{
 "cells": [
  {
   "cell_type": "markdown",
   "metadata": {},
   "source": [
    "# Intro to RNN"
   ]
  },
  {
   "cell_type": "code",
   "execution_count": 1,
   "metadata": {
    "collapsed": false,
    "deletable": true,
    "editable": true
   },
   "outputs": [],
   "source": [
    "import time\n",
    "from collections import namedtuple\n",
    "\n",
    "import numpy as np\n",
    "import tensorflow as tf"
   ]
  },
  {
   "cell_type": "markdown",
   "metadata": {},
   "source": [
    "First we'll load the text file and convert it into integers for our network to use. Here I'm creating a couple dictionaries to convert the characters to and from integers. Encoding the characters as integers makes it easier to use as input in the network."
   ]
  },
  {
   "cell_type": "code",
   "execution_count": 2,
   "metadata": {
    "collapsed": false
   },
   "outputs": [],
   "source": [
    "with open('anna.txt', 'r') as f:\n",
    "    text=f.read()\n",
    "vocab = set(text)\n",
    "vocab_to_int = {c: i for i, c in enumerate(vocab)}\n",
    "int_to_vocab = dict(enumerate(vocab))\n",
    "chars = np.array([vocab_to_int[c] for c in text], dtype=np.int32)"
   ]
  },
  {
   "cell_type": "markdown",
   "metadata": {},
   "source": [
    "Let's check out the first 100 characters, make sure everything is peachy. According to the [American Book Review](http://americanbookreview.org/100bestlines.asp), this is the 6th best first line of a book ever."
   ]
  },
  {
   "cell_type": "code",
   "execution_count": 3,
   "metadata": {
    "collapsed": false
   },
   "outputs": [
    {
     "data": {
      "text/plain": [
       "'Chapter 1\\n\\n\\nHappy families are all alike; every unhappy family is unhappy in its own\\nway.\\n\\nEverythin'"
      ]
     },
     "execution_count": 3,
     "metadata": {},
     "output_type": "execute_result"
    }
   ],
   "source": [
    "text[:100]"
   ]
  },
  {
   "cell_type": "markdown",
   "metadata": {},
   "source": [
    "And we can see the characters encoded as integers."
   ]
  },
  {
   "cell_type": "code",
   "execution_count": 4,
   "metadata": {
    "collapsed": false
   },
   "outputs": [
    {
     "data": {
      "text/plain": [
       "array([76, 61, 21, 71,  2, 11, 17,  6, 16,  7,  7,  7, 33, 21, 71, 71, 18,\n",
       "        6, 43, 21, 29, 45, 42, 45, 11, 12,  6, 21, 17, 11,  6, 21, 42, 42,\n",
       "        6, 21, 42, 45, 10, 11, 65,  6, 11, 32, 11, 17, 18,  6, 77, 36, 61,\n",
       "       21, 71, 71, 18,  6, 43, 21, 29, 45, 42, 18,  6, 45, 12,  6, 77, 36,\n",
       "       61, 21, 71, 71, 18,  6, 45, 36,  6, 45,  2, 12,  6, 34, 53, 36,  7,\n",
       "       53, 21, 18, 47,  7,  7, 58, 32, 11, 17, 18,  2, 61, 45, 36], dtype=int32)"
      ]
     },
     "execution_count": 4,
     "metadata": {},
     "output_type": "execute_result"
    }
   ],
   "source": [
    "chars[:100]"
   ]
  },
  {
   "cell_type": "markdown",
   "metadata": {},
   "source": [
    "## Making training and validation batches\n",
    "\n",
    "Make a 2D matrix where the number of rows is equal to the batch size. Each row will be one long concatenated string from the character data. We'll split this data into a training set and validation set using the `split_frac` keyword. This will keep 90% of the batches in the training set, the other 10% in the validation set."
   ]
  },
  {
   "cell_type": "code",
   "execution_count": 5,
   "metadata": {
    "collapsed": true
   },
   "outputs": [],
   "source": [
    "def split_data(chars, batch_size, num_steps, split_frac=0.9):\n",
    "    \"\"\" \n",
    "    Split character data into training and validation sets, inputs and targets for each set.\n",
    "    \n",
    "    Arguments\n",
    "    ---------\n",
    "    chars: character array\n",
    "    batch_size: Size of examples in each of batch\n",
    "    num_steps: Number of sequence steps to keep in the input and pass to the network\n",
    "    split_frac: Fraction of batches to keep in the training set\n",
    "    \n",
    "    \n",
    "    Returns train_x, train_y, val_x, val_y\n",
    "    \"\"\"\n",
    "    \n",
    "    slice_size = batch_size * num_steps\n",
    "    n_batches = int(len(chars) / slice_size)\n",
    "    \n",
    "    # Drop the last few characters to make only full batches\n",
    "    x = chars[: n_batches*slice_size]\n",
    "    y = chars[1: n_batches*slice_size + 1]\n",
    "    \n",
    "    # Split the data into batch_size slices, then stack them into a 2D matrix \n",
    "    x = np.stack(np.split(x, batch_size))\n",
    "    y = np.stack(np.split(y, batch_size))\n",
    "    \n",
    "    # Now x and y are arrays with dimensions batch_size x n_batches*num_steps\n",
    "    \n",
    "    # Split into training and validation sets, keep the virst split_frac batches for training\n",
    "    split_idx = int(n_batches*split_frac)\n",
    "    train_x, train_y= x[:, :split_idx*num_steps], y[:, :split_idx*num_steps]\n",
    "    val_x, val_y = x[:, split_idx*num_steps:], y[:, split_idx*num_steps:]\n",
    "    \n",
    "    return train_x, train_y, val_x, val_y"
   ]
  },
  {
   "cell_type": "markdown",
   "metadata": {},
   "source": [
    "Now I'll make my data sets and we can check out what's going on here. Here I'm going to use a batch size of 10 and 50 sequence steps."
   ]
  },
  {
   "cell_type": "code",
   "execution_count": 6,
   "metadata": {
    "collapsed": false
   },
   "outputs": [],
   "source": [
    "train_x, train_y, val_x, val_y = split_data(chars, 10, 50)"
   ]
  },
  {
   "cell_type": "code",
   "execution_count": 7,
   "metadata": {
    "collapsed": false
   },
   "outputs": [
    {
     "data": {
      "text/plain": [
       "(10, 178650)"
      ]
     },
     "execution_count": 7,
     "metadata": {},
     "output_type": "execute_result"
    }
   ],
   "source": [
    "train_x.shape"
   ]
  },
  {
   "cell_type": "markdown",
   "metadata": {},
   "source": [
    "Looking at the size of this array, we see that we have rows equal to the batch size. When we want to get a batch out of here, we can grab a subset of this array that contains all the rows but has a width equal to the number of steps in the sequence. The first batch looks like this:"
   ]
  },
  {
   "cell_type": "code",
   "execution_count": 8,
   "metadata": {
    "collapsed": false
   },
   "outputs": [
    {
     "data": {
      "text/plain": [
       "array([[76, 61, 21, 71,  2, 11, 17,  6, 16,  7,  7,  7, 33, 21, 71, 71, 18,\n",
       "         6, 43, 21, 29, 45, 42, 45, 11, 12,  6, 21, 17, 11,  6, 21, 42, 42,\n",
       "         6, 21, 42, 45, 10, 11, 65,  6, 11, 32, 11, 17, 18,  6, 77, 36],\n",
       "       [ 6, 21, 29,  6, 36, 34,  2,  6, 13, 34, 45, 36, 13,  6,  2, 34,  6,\n",
       "        12,  2, 21, 18, 57, 82,  6, 21, 36, 12, 53, 11, 17, 11, 27,  6, 78,\n",
       "        36, 36, 21, 57,  6, 12, 29, 45, 42, 45, 36, 13, 57,  6, 26, 77],\n",
       "       [32, 45, 36, 47,  7,  7, 82, 60, 11, 12, 57,  6, 45,  2, 35, 12,  6,\n",
       "        12, 11,  2,  2, 42, 11, 27, 47,  6, 46, 61, 11,  6, 71, 17, 45, 74,\n",
       "        11,  6, 45, 12,  6, 29, 21, 13, 36, 45, 43, 45, 74, 11, 36,  2],\n",
       "       [36,  6, 27, 77, 17, 45, 36, 13,  6, 61, 45, 12,  6, 74, 34, 36, 32,\n",
       "        11, 17, 12, 21,  2, 45, 34, 36,  6, 53, 45,  2, 61,  6, 61, 45, 12,\n",
       "         7, 26, 17, 34,  2, 61, 11, 17,  6, 53, 21, 12,  6,  2, 61, 45],\n",
       "       [ 6, 45,  2,  6, 45, 12, 57,  6, 12, 45, 17, 31, 82,  6, 12, 21, 45,\n",
       "        27,  6,  2, 61, 11,  6, 34, 42, 27,  6, 29, 21, 36, 57,  6, 13, 11,\n",
       "         2,  2, 45, 36, 13,  6, 77, 71, 57,  6, 21, 36, 27,  7, 74, 17],\n",
       "       [ 6, 70,  2,  6, 53, 21, 12,  7, 34, 36, 42, 18,  6, 53, 61, 11, 36,\n",
       "         6,  2, 61, 11,  6, 12, 21, 29, 11,  6, 11, 32, 11, 36, 45, 36, 13,\n",
       "         6, 61, 11,  6, 74, 21, 29, 11,  6,  2, 34,  6,  2, 61, 11, 45],\n",
       "       [61, 11, 36,  6, 74, 34, 29, 11,  6, 43, 34, 17,  6, 29, 11, 57, 82,\n",
       "         6, 12, 61, 11,  6, 12, 21, 45, 27, 57,  6, 21, 36, 27,  6, 53, 11,\n",
       "        36,  2,  6, 26, 21, 74, 10,  6, 45, 36,  2, 34,  6,  2, 61, 11],\n",
       "       [65,  6, 26, 77,  2,  6, 36, 34, 53,  6, 12, 61, 11,  6, 53, 34, 77,\n",
       "        42, 27,  6, 17, 11, 21, 27, 45, 42, 18,  6, 61, 21, 32, 11,  6, 12,\n",
       "        21, 74, 17, 45, 43, 45, 74, 11, 27, 57,  6, 36, 34,  2,  6, 29],\n",
       "       [ 2,  6, 45, 12, 36, 35,  2, 47,  6, 46, 61, 11, 18, 35, 17, 11,  6,\n",
       "        71, 17, 34, 71, 17, 45, 11,  2, 34, 17, 12,  6, 34, 43,  6, 21,  6,\n",
       "        12, 34, 17,  2, 57,  7, 26, 77,  2,  6, 53, 11, 35, 17, 11,  6],\n",
       "       [ 6, 12, 21, 45, 27,  6,  2, 34,  6, 61, 11, 17, 12, 11, 42, 43, 57,\n",
       "         6, 21, 36, 27,  6, 26, 11, 13, 21, 36,  6, 21, 13, 21, 45, 36,  6,\n",
       "        43, 17, 34, 29,  6,  2, 61, 11,  6, 26, 11, 13, 45, 36, 36, 45]], dtype=int32)"
      ]
     },
     "execution_count": 8,
     "metadata": {},
     "output_type": "execute_result"
    }
   ],
   "source": [
    "train_x[:,:50]"
   ]
  },
  {
   "cell_type": "markdown",
   "metadata": {},
   "source": [
    "I'll write another function to grab batches out of the arrays made by `split_data`. Here each batch will be a sliding window on these arrays with size `batch_size X num_steps`. For example, if we want our network to train on a sequence of 100 characters, `num_steps = 100`. For the next batch, we'll shift this window the next sequence of `num_steps` characters. In this way we can feed batches to the network and the cell states will continue through on each batch."
   ]
  },
  {
   "cell_type": "code",
   "execution_count": 9,
   "metadata": {
    "collapsed": true
   },
   "outputs": [],
   "source": [
    "def get_batch(arrs, num_steps):\n",
    "    batch_size, slice_size = arrs[0].shape\n",
    "    \n",
    "    n_batches = int(slice_size/num_steps)\n",
    "    for b in range(n_batches):\n",
    "        yield [x[:, b*num_steps: (b+1)*num_steps] for x in arrs]"
   ]
  },
  {
   "cell_type": "markdown",
   "metadata": {},
   "source": [
    "## Building the model\n",
    "\n",
    "Below is a function where I build the graph for the network."
   ]
  },
  {
   "cell_type": "code",
   "execution_count": 10,
   "metadata": {
    "collapsed": false,
    "deletable": true,
    "editable": true
   },
   "outputs": [],
   "source": [
    "def build_rnn(num_classes, batch_size=50, num_steps=50, lstm_size=128, num_layers=2,\n",
    "              learning_rate=0.001, grad_clip=5, sampling=False):\n",
    "    \n",
    "    # When we're using this network for sampling later, we'll be passing in\n",
    "    # one character at a time, so providing an option for that\n",
    "    if sampling == True:\n",
    "        batch_size, num_steps = 1, 1\n",
    "\n",
    "    tf.reset_default_graph()\n",
    "    \n",
    "    # Declare placeholders we'll feed into the graph\n",
    "    inputs = tf.placeholder(tf.int32, [batch_size, num_steps], name='inputs')\n",
    "    targets = tf.placeholder(tf.int32, [batch_size, num_steps], name='targets')\n",
    "    \n",
    "    # Keep probability placeholder for drop out layers\n",
    "    keep_prob = tf.placeholder(tf.float32, name='keep_prob')\n",
    "    \n",
    "    # One-hot encoding the input and target characters\n",
    "    x_one_hot = tf.one_hot(inputs, num_classes)\n",
    "    y_one_hot = tf.one_hot(targets, num_classes)\n",
    "\n",
    "    ### Build the RNN layers\n",
    "    # Use a basic LSTM cell\n",
    "    lstm = tf.contrib.rnn.BasicLSTMCell(lstm_size)\n",
    "    \n",
    "    # Add dropout to the cell\n",
    "    drop = tf.contrib.rnn.DropoutWrapper(lstm, output_keep_prob=keep_prob)\n",
    "    \n",
    "    # Stack up multiple LSTM layers, for deep learning\n",
    "    cell = tf.contrib.rnn.MultiRNNCell([drop] * num_layers)\n",
    "    initial_state = cell.zero_state(batch_size, tf.float32)\n",
    "\n",
    "    ### Run the data through the RNN layers\n",
    "    # This makes a list where each element is on step in the sequence\n",
    "    rnn_inputs = [tf.squeeze(i, squeeze_dims=[1]) for i in tf.split(x_one_hot, num_steps, 1)]\n",
    "    \n",
    "    # Run each sequence step through the RNN and collect the outputs\n",
    "    outputs, state = tf.contrib.rnn.static_rnn(cell, rnn_inputs, initial_state=initial_state)\n",
    "    final_state = state\n",
    "    \n",
    "    # Reshape output so it's a bunch of rows, one output row for each step for each batch\n",
    "    seq_output = tf.concat(outputs, axis=1)\n",
    "    output = tf.reshape(seq_output, [-1, lstm_size])\n",
    "    \n",
    "    # Now connect the RNN putputs to a softmax layer\n",
    "    with tf.variable_scope('softmax'):\n",
    "        softmax_w = tf.Variable(tf.truncated_normal((lstm_size, num_classes), stddev=0.1))\n",
    "        softmax_b = tf.Variable(tf.zeros(num_classes))\n",
    "    \n",
    "    # Since output is a bunch of rows of RNN cell outputs, logits will be a bunch\n",
    "    # of rows of logit outputs, one for each step and batch\n",
    "    logits = tf.matmul(output, softmax_w) + softmax_b\n",
    "    \n",
    "    # Use softmax to get the probabilities for predicted characters\n",
    "    preds = tf.nn.softmax(logits, name='predictions')\n",
    "    \n",
    "    # Reshape the targets to match the logits\n",
    "    y_reshaped = tf.reshape(y_one_hot, [-1, num_classes])\n",
    "    loss = tf.nn.softmax_cross_entropy_with_logits(logits=logits, labels=y_reshaped)\n",
    "    cost = tf.reduce_mean(loss)\n",
    "\n",
    "    # Optimizer for training, using gradient clipping to control exploding gradients\n",
    "    tvars = tf.trainable_variables()\n",
    "    grads, _ = tf.clip_by_global_norm(tf.gradients(cost, tvars), grad_clip)\n",
    "    train_op = tf.train.AdamOptimizer(learning_rate)\n",
    "    optimizer = train_op.apply_gradients(zip(grads, tvars))\n",
    "    \n",
    "    # Export the nodes\n",
    "    # NOTE: I'm using a namedtuple here because I think they are cool\n",
    "    export_nodes = ['inputs', 'targets', 'initial_state', 'final_state',\n",
    "                    'keep_prob', 'cost', 'preds', 'optimizer']\n",
    "    Graph = namedtuple('Graph', export_nodes)\n",
    "    local_dict = locals()\n",
    "    graph = Graph(*[local_dict[each] for each in export_nodes])\n",
    "    \n",
    "    return graph"
   ]
  },
  {
   "cell_type": "markdown",
   "metadata": {},
   "source": [
    "## Hyperparameters\n",
    "\n",
    "Here I'm defining the hyperparameters for the network. \n",
    "\n",
    "* `batch_size` - Number of sequences running through the network in one pass.\n",
    "* `num_steps` - Number of characters in the sequence the network is trained on. Larger is better typically, the network will learn more long range dependencies. But it takes longer to train. 100 is typically a good number here.\n",
    "* `lstm_size` - The number of units in the hidden layers.\n",
    "* `num_layers` - Number of hidden LSTM layers to use\n",
    "* `learning_rate` - Learning rate for training\n",
    "* `keep_prob` - The dropout keep probability when training. If you're network is overfitting, try decreasing this.\n",
    "\n",
    "Here's some good advice from Andrej Karpathy on training the network. [source](https://github.com/karpathy/char-rnn#tips-and-tricks).\n",
    "\n",
    "> ## Tips and Tricks\n",
    "\n",
    ">### Monitoring Validation Loss vs. Training Loss\n",
    ">If you're somewhat new to Machine Learning or Neural Networks it can take a bit of expertise to get good models. The most important quantity to keep track of is the difference between your training loss (printed during training) and the validation loss (printed once in a while when the RNN is run on the validation data (by default every 1000 iterations)). In particular:\n",
    "\n",
    "> - If your training loss is much lower than validation loss then this means the network might be **overfitting**. Solutions to this are to decrease your network size, or to increase dropout. For example you could try dropout of 0.5 and so on.\n",
    "> - If your training/validation loss are about equal then your model is **underfitting**. Increase the size of your model (either number of layers or the raw number of neurons per layer)\n",
    "\n",
    "> ### Approximate number of parameters\n",
    "\n",
    "> The two most important parameters that control the model are `lstm_size` and `num_layers`. I would advise that you always use `num_layers` of either 2/3. The `lstm_size` can be adjusted based on how much data you have. The two important quantities to keep track of here are:\n",
    "\n",
    "> - The number of parameters in your model. This is printed when you start training.\n",
    "> - The size of your dataset. 1MB file is approximately 1 million characters.\n",
    "\n",
    ">These two should be about the same order of magnitude. It's a little tricky to tell. Here are some examples:\n",
    "\n",
    "> - I have a 100MB dataset and I'm using the default parameter settings (which currently print 150K parameters). My data size is significantly larger (100 mil >> 0.15 mil), so I expect to heavily underfit. I am thinking I can comfortably afford to make `lstm_size` larger.\n",
    "> - I have a 10MB dataset and running a 10 million parameter model. I'm slightly nervous and I'm carefully monitoring my validation loss. If it's larger than my training loss then I may want to try to increase dropout a bit and see if that heps the validation loss.\n",
    "\n",
    "> ### Best models strategy\n",
    "\n",
    ">The winning strategy to obtaining very good models (if you have the compute time) is to always err on making the network larger (as large as you're willing to wait for it to compute) and then try different dropout values (between 0,1). Whatever model has the best validation performance (the loss, written in the checkpoint filename, low is good) is the one you should use in the end.\n",
    "\n",
    ">It is very common in deep learning to run many different models with many different hyperparameter settings, and in the end take whatever checkpoint gave the best validation performance.\n",
    "\n",
    ">By the way, the size of your training and validation splits are also parameters. Make sure you have a decent amount of data in your validation set or otherwise the validation performance will be noisy and not very informative.\n"
   ]
  },
  {
   "cell_type": "code",
   "execution_count": 11,
   "metadata": {
    "collapsed": false,
    "deletable": true,
    "editable": true
   },
   "outputs": [],
   "source": [
    "batch_size = 100\n",
    "num_steps = 100 \n",
    "lstm_size = 512\n",
    "num_layers = 2\n",
    "learning_rate = 0.001\n",
    "keep_prob = 0.5"
   ]
  },
  {
   "cell_type": "markdown",
   "metadata": {},
   "source": [
    "## Training\n",
    "\n",
    "Time for training which is pretty straightforward. Here I pass in some data, and get an LSTM state back. Then I pass that state back in to the network so the next batch can continue the state from the previous batch. And every so often (set by `save_every_n`) I calculate the validation loss and save a checkpoint.\n",
    "\n",
    "Here I'm saving checkpoints with the format\n",
    "\n",
    "`i{iteration number}_l{# hidden layer units}_v{validation loss}.ckpt`"
   ]
  },
  {
   "cell_type": "code",
   "execution_count": null,
   "metadata": {
    "collapsed": false,
    "deletable": true,
    "editable": true,
    "scrolled": true
   },
   "outputs": [
    {
     "name": "stdout",
     "output_type": "stream",
     "text": [
      "Epoch 1/20  Iteration 1/3560 Training loss: 4.4224 5.0696 sec/batch\n",
      "Epoch 1/20  Iteration 2/3560 Training loss: 4.3809 3.3704 sec/batch\n",
      "Epoch 1/20  Iteration 3/3560 Training loss: 4.2297 3.4432 sec/batch\n",
      "Epoch 1/20  Iteration 4/3560 Training loss: 4.4525 3.4462 sec/batch\n",
      "Epoch 1/20  Iteration 5/3560 Training loss: 4.3820 3.4057 sec/batch\n",
      "Epoch 1/20  Iteration 6/3560 Training loss: 4.2873 3.4359 sec/batch\n",
      "Epoch 1/20  Iteration 7/3560 Training loss: 4.1992 3.4376 sec/batch\n",
      "Epoch 1/20  Iteration 8/3560 Training loss: 4.1220 3.4111 sec/batch\n",
      "Epoch 1/20  Iteration 9/3560 Training loss: 4.0494 3.5220 sec/batch\n",
      "Epoch 1/20  Iteration 10/3560 Training loss: 3.9887 3.5683 sec/batch\n",
      "Epoch 1/20  Iteration 11/3560 Training loss: 3.9343 3.5635 sec/batch\n",
      "Epoch 1/20  Iteration 12/3560 Training loss: 3.8895 3.3934 sec/batch\n",
      "Epoch 1/20  Iteration 13/3560 Training loss: 3.8480 3.4624 sec/batch\n",
      "Epoch 1/20  Iteration 14/3560 Training loss: 3.8119 4.1537 sec/batch\n",
      "Epoch 1/20  Iteration 15/3560 Training loss: 3.7792 3.4039 sec/batch\n",
      "Epoch 1/20  Iteration 16/3560 Training loss: 3.7494 3.4675 sec/batch\n",
      "Epoch 1/20  Iteration 17/3560 Training loss: 3.7227 3.6068 sec/batch\n",
      "Epoch 1/20  Iteration 18/3560 Training loss: 3.6993 3.5396 sec/batch\n",
      "Epoch 1/20  Iteration 19/3560 Training loss: 3.6773 3.4452 sec/batch\n",
      "Epoch 1/20  Iteration 20/3560 Training loss: 3.6553 3.4531 sec/batch\n",
      "Epoch 1/20  Iteration 21/3560 Training loss: 3.6363 3.4920 sec/batch\n",
      "Epoch 1/20  Iteration 22/3560 Training loss: 3.6187 3.5251 sec/batch\n",
      "Epoch 1/20  Iteration 23/3560 Training loss: 3.6025 3.4649 sec/batch\n",
      "Epoch 1/20  Iteration 24/3560 Training loss: 3.5871 3.4179 sec/batch\n",
      "Epoch 1/20  Iteration 25/3560 Training loss: 3.5723 3.3821 sec/batch\n",
      "Epoch 1/20  Iteration 26/3560 Training loss: 3.5594 3.3934 sec/batch\n",
      "Epoch 1/20  Iteration 27/3560 Training loss: 3.5476 3.4477 sec/batch\n",
      "Epoch 1/20  Iteration 28/3560 Training loss: 3.5352 3.5302 sec/batch\n",
      "Epoch 1/20  Iteration 29/3560 Training loss: 3.5242 3.3810 sec/batch\n",
      "Epoch 1/20  Iteration 30/3560 Training loss: 3.5138 3.3609 sec/batch\n",
      "Epoch 1/20  Iteration 31/3560 Training loss: 3.5047 3.3609 sec/batch\n",
      "Epoch 1/20  Iteration 32/3560 Training loss: 3.4951 3.3960 sec/batch\n",
      "Epoch 1/20  Iteration 33/3560 Training loss: 3.4856 3.3437 sec/batch\n",
      "Epoch 1/20  Iteration 34/3560 Training loss: 3.4771 3.7724 sec/batch\n",
      "Epoch 1/20  Iteration 35/3560 Training loss: 3.4687 3.8032 sec/batch\n",
      "Epoch 1/20  Iteration 36/3560 Training loss: 3.4611 3.5398 sec/batch\n",
      "Epoch 1/20  Iteration 37/3560 Training loss: 3.4531 3.4225 sec/batch\n",
      "Epoch 1/20  Iteration 38/3560 Training loss: 3.4456 3.9526 sec/batch\n",
      "Epoch 1/20  Iteration 39/3560 Training loss: 3.4385 3.7593 sec/batch\n",
      "Epoch 1/20  Iteration 40/3560 Training loss: 3.4319 3.4602 sec/batch\n",
      "Epoch 1/20  Iteration 41/3560 Training loss: 3.4254 3.3844 sec/batch\n",
      "Epoch 1/20  Iteration 42/3560 Training loss: 3.4192 3.3344 sec/batch\n",
      "Epoch 1/20  Iteration 43/3560 Training loss: 3.4130 3.3801 sec/batch\n",
      "Epoch 1/20  Iteration 44/3560 Training loss: 3.4073 3.5070 sec/batch\n",
      "Epoch 1/20  Iteration 45/3560 Training loss: 3.4015 3.4832 sec/batch\n",
      "Epoch 1/20  Iteration 46/3560 Training loss: 3.3963 3.3653 sec/batch\n",
      "Epoch 1/20  Iteration 47/3560 Training loss: 3.3914 3.3620 sec/batch\n",
      "Epoch 1/20  Iteration 48/3560 Training loss: 3.3869 3.4536 sec/batch\n",
      "Epoch 1/20  Iteration 49/3560 Training loss: 3.3823 3.7427 sec/batch\n",
      "Epoch 1/20  Iteration 50/3560 Training loss: 3.3778 3.3423 sec/batch\n",
      "Epoch 1/20  Iteration 51/3560 Training loss: 3.3735 3.7675 sec/batch\n",
      "Epoch 1/20  Iteration 52/3560 Training loss: 3.3692 3.4868 sec/batch\n",
      "Epoch 1/20  Iteration 53/3560 Training loss: 3.3653 3.4653 sec/batch\n",
      "Epoch 1/20  Iteration 54/3560 Training loss: 3.3612 3.3900 sec/batch\n",
      "Epoch 1/20  Iteration 55/3560 Training loss: 3.3575 3.5258 sec/batch\n",
      "Epoch 1/20  Iteration 56/3560 Training loss: 3.3534 3.5625 sec/batch\n",
      "Epoch 1/20  Iteration 57/3560 Training loss: 3.3497 3.4308 sec/batch\n",
      "Epoch 1/20  Iteration 58/3560 Training loss: 3.3462 3.4007 sec/batch\n",
      "Epoch 1/20  Iteration 59/3560 Training loss: 3.3426 3.6808 sec/batch\n",
      "Epoch 1/20  Iteration 60/3560 Training loss: 3.3393 3.4891 sec/batch\n",
      "Epoch 1/20  Iteration 61/3560 Training loss: 3.3361 3.5162 sec/batch\n",
      "Epoch 1/20  Iteration 62/3560 Training loss: 3.3332 4.2049 sec/batch\n",
      "Epoch 1/20  Iteration 63/3560 Training loss: 3.3305 3.4866 sec/batch\n",
      "Epoch 1/20  Iteration 64/3560 Training loss: 3.3273 3.4768 sec/batch\n",
      "Epoch 1/20  Iteration 65/3560 Training loss: 3.3242 3.9017 sec/batch\n",
      "Epoch 1/20  Iteration 66/3560 Training loss: 3.3215 3.8953 sec/batch\n",
      "Epoch 1/20  Iteration 67/3560 Training loss: 3.3190 3.6103 sec/batch\n",
      "Epoch 1/20  Iteration 68/3560 Training loss: 3.3158 3.6485 sec/batch\n",
      "Epoch 1/20  Iteration 69/3560 Training loss: 3.3130 3.6091 sec/batch\n",
      "Epoch 1/20  Iteration 70/3560 Training loss: 3.3106 3.5676 sec/batch\n",
      "Epoch 1/20  Iteration 71/3560 Training loss: 3.3080 3.5190 sec/batch\n",
      "Epoch 1/20  Iteration 72/3560 Training loss: 3.3058 3.4401 sec/batch\n",
      "Epoch 1/20  Iteration 73/3560 Training loss: 3.3033 3.3780 sec/batch\n",
      "Epoch 1/20  Iteration 74/3560 Training loss: 3.3010 3.5485 sec/batch\n",
      "Epoch 1/20  Iteration 75/3560 Training loss: 3.2988 3.5482 sec/batch\n",
      "Epoch 1/20  Iteration 76/3560 Training loss: 3.2966 3.5128 sec/batch\n",
      "Epoch 1/20  Iteration 77/3560 Training loss: 3.2945 3.4996 sec/batch\n",
      "Epoch 1/20  Iteration 78/3560 Training loss: 3.2922 3.5453 sec/batch\n",
      "Epoch 1/20  Iteration 79/3560 Training loss: 3.2901 3.4202 sec/batch\n",
      "Epoch 1/20  Iteration 80/3560 Training loss: 3.2877 3.4568 sec/batch\n",
      "Epoch 1/20  Iteration 81/3560 Training loss: 3.2855 3.8464 sec/batch\n",
      "Epoch 1/20  Iteration 82/3560 Training loss: 3.2835 3.6522 sec/batch\n",
      "Epoch 1/20  Iteration 83/3560 Training loss: 3.2816 3.5952 sec/batch\n",
      "Epoch 1/20  Iteration 84/3560 Training loss: 3.2796 3.4262 sec/batch\n",
      "Epoch 1/20  Iteration 85/3560 Training loss: 3.2775 3.3472 sec/batch\n",
      "Epoch 1/20  Iteration 86/3560 Training loss: 3.2756 3.4599 sec/batch\n",
      "Epoch 1/20  Iteration 87/3560 Training loss: 3.2739 3.3991 sec/batch\n",
      "Epoch 1/20  Iteration 88/3560 Training loss: 3.2723 3.5549 sec/batch\n",
      "Epoch 1/20  Iteration 89/3560 Training loss: 3.2708 4.0812 sec/batch\n",
      "Epoch 1/20  Iteration 90/3560 Training loss: 3.2693 3.8482 sec/batch\n",
      "Epoch 1/20  Iteration 91/3560 Training loss: 3.2677 3.4409 sec/batch\n",
      "Epoch 1/20  Iteration 92/3560 Training loss: 3.2661 3.5580 sec/batch\n",
      "Epoch 1/20  Iteration 93/3560 Training loss: 3.2645 3.4375 sec/batch\n",
      "Epoch 1/20  Iteration 94/3560 Training loss: 3.2629 3.3672 sec/batch\n",
      "Epoch 1/20  Iteration 95/3560 Training loss: 3.2613 3.5400 sec/batch\n",
      "Epoch 1/20  Iteration 96/3560 Training loss: 3.2596 3.5185 sec/batch\n",
      "Epoch 1/20  Iteration 97/3560 Training loss: 3.2582 3.5601 sec/batch\n",
      "Epoch 1/20  Iteration 98/3560 Training loss: 3.2565 4.0022 sec/batch\n",
      "Epoch 1/20  Iteration 99/3560 Training loss: 3.2550 3.6941 sec/batch\n",
      "Epoch 1/20  Iteration 100/3560 Training loss: 3.2535 3.6049 sec/batch\n",
      "Epoch 1/20  Iteration 101/3560 Training loss: 3.2520 3.5593 sec/batch\n",
      "Epoch 1/20  Iteration 102/3560 Training loss: 3.2504 4.2164 sec/batch\n",
      "Epoch 1/20  Iteration 103/3560 Training loss: 3.2489 3.9677 sec/batch\n",
      "Epoch 1/20  Iteration 104/3560 Training loss: 3.2474 3.9798 sec/batch\n",
      "Epoch 1/20  Iteration 105/3560 Training loss: 3.2459 3.6864 sec/batch\n",
      "Epoch 1/20  Iteration 106/3560 Training loss: 3.2444 3.6979 sec/batch\n",
      "Epoch 1/20  Iteration 107/3560 Training loss: 3.2427 3.8009 sec/batch\n",
      "Epoch 1/20  Iteration 108/3560 Training loss: 3.2411 3.3860 sec/batch\n",
      "Epoch 1/20  Iteration 109/3560 Training loss: 3.2395 3.3532 sec/batch\n",
      "Epoch 1/20  Iteration 110/3560 Training loss: 3.2377 3.4970 sec/batch\n",
      "Epoch 1/20  Iteration 111/3560 Training loss: 3.2361 3.3108 sec/batch\n",
      "Epoch 1/20  Iteration 112/3560 Training loss: 3.2345 3.4594 sec/batch\n",
      "Epoch 1/20  Iteration 113/3560 Training loss: 3.2328 3.3848 sec/batch\n",
      "Epoch 1/20  Iteration 114/3560 Training loss: 3.2310 3.5029 sec/batch\n",
      "Epoch 1/20  Iteration 115/3560 Training loss: 3.2293 3.6169 sec/batch\n",
      "Epoch 1/20  Iteration 116/3560 Training loss: 3.2277 3.2963 sec/batch\n",
      "Epoch 1/20  Iteration 117/3560 Training loss: 3.2263 3.6173 sec/batch\n",
      "Epoch 1/20  Iteration 118/3560 Training loss: 3.2249 3.6209 sec/batch\n",
      "Epoch 1/20  Iteration 119/3560 Training loss: 3.2234 3.4362 sec/batch\n",
      "Epoch 1/20  Iteration 120/3560 Training loss: 3.2218 3.4174 sec/batch\n",
      "Epoch 1/20  Iteration 121/3560 Training loss: 3.2217 3.3904 sec/batch\n",
      "Epoch 1/20  Iteration 122/3560 Training loss: 3.2219 3.4880 sec/batch\n",
      "Epoch 1/20  Iteration 123/3560 Training loss: 3.2219 3.4333 sec/batch\n",
      "Epoch 1/20  Iteration 124/3560 Training loss: 3.2218 3.3751 sec/batch\n",
      "Epoch 1/20  Iteration 125/3560 Training loss: 3.2211 3.4244 sec/batch\n",
      "Epoch 1/20  Iteration 126/3560 Training loss: 3.2202 3.3406 sec/batch\n",
      "Epoch 1/20  Iteration 127/3560 Training loss: 3.2191 3.3735 sec/batch\n",
      "Epoch 1/20  Iteration 128/3560 Training loss: 3.2178 3.5765 sec/batch\n"
     ]
    }
   ],
   "source": [
    "epochs = 20\n",
    "# Save every N iterations\n",
    "save_every_n = 200\n",
    "train_x, train_y, val_x, val_y = split_data(chars, batch_size, num_steps)\n",
    "\n",
    "model = build_rnn(len(vocab), \n",
    "                  batch_size=batch_size,\n",
    "                  num_steps=num_steps,\n",
    "                  learning_rate=learning_rate,\n",
    "                  lstm_size=lstm_size,\n",
    "                  num_layers=num_layers)\n",
    "\n",
    "saver = tf.train.Saver(max_to_keep=100)\n",
    "with tf.Session() as sess:\n",
    "    sess.run(tf.global_variables_initializer())\n",
    "    \n",
    "    # Use the line below to load a checkpoint and resume training\n",
    "    #saver.restore(sess, 'checkpoints/______.ckpt')\n",
    "    \n",
    "    n_batches = int(train_x.shape[1]/num_steps)\n",
    "    iterations = n_batches * epochs\n",
    "    for e in range(epochs):\n",
    "        \n",
    "        # Train network\n",
    "        new_state = sess.run(model.initial_state)\n",
    "        loss = 0\n",
    "        for b, (x, y) in enumerate(get_batch([train_x, train_y], num_steps), 1):\n",
    "            iteration = e*n_batches + b\n",
    "            start = time.time()\n",
    "            feed = {model.inputs: x,\n",
    "                    model.targets: y,\n",
    "                    model.keep_prob: keep_prob,\n",
    "                    model.initial_state: new_state}\n",
    "            batch_loss, new_state, _ = sess.run([model.cost, model.final_state, model.optimizer], \n",
    "                                                 feed_dict=feed)\n",
    "            loss += batch_loss\n",
    "            end = time.time()\n",
    "            print('Epoch {}/{} '.format(e+1, epochs),\n",
    "                  'Iteration {}/{}'.format(iteration, iterations),\n",
    "                  'Training loss: {:.4f}'.format(loss/b),\n",
    "                  '{:.4f} sec/batch'.format((end-start)))\n",
    "        \n",
    "            \n",
    "            if (iteration%save_every_n == 0) or (iteration == iterations):\n",
    "                # Check performance, notice dropout has been set to 1\n",
    "                val_loss = []\n",
    "                new_state = sess.run(model.initial_state)\n",
    "                for x, y in get_batch([val_x, val_y], num_steps):\n",
    "                    feed = {model.inputs: x,\n",
    "                            model.targets: y,\n",
    "                            model.keep_prob: 1.,\n",
    "                            model.initial_state: new_state}\n",
    "                    batch_loss, new_state = sess.run([model.cost, model.final_state], feed_dict=feed)\n",
    "                    val_loss.append(batch_loss)\n",
    "\n",
    "                print('Validation loss:', np.mean(val_loss),\n",
    "                      'Saving checkpoint!')\n",
    "                saver.save(sess, \"checkpoints/i{}_l{}_v{:.3f}.ckpt\".format(iteration, lstm_size, np.mean(val_loss)))"
   ]
  },
  {
   "cell_type": "code",
   "execution_count": null,
   "metadata": {
    "collapsed": false,
    "deletable": true,
    "editable": true
   },
   "outputs": [],
   "source": [
    "tf.train.get_checkpoint_state('checkpoints')"
   ]
  },
  {
   "cell_type": "markdown",
   "metadata": {},
   "source": [
    "## Sampling\n",
    "\n",
    "Now that the network is trained, we'll can use it to generate new text. The idea is that we pass in a character, then the network will predict the next character. We can use the new one, to predict the next one. And we keep doing this to generate all new text. I also included some functionality to prime the network with some text by passing in a string and building up a state from that.\n",
    "\n",
    "The network gives us predictions for each character. To reduce noise and make things a little less random, I'm going to only choose a new character from the top N most likely characters.\n",
    "\n"
   ]
  },
  {
   "cell_type": "code",
   "execution_count": 17,
   "metadata": {
    "collapsed": true
   },
   "outputs": [],
   "source": [
    "def pick_top_n(preds, vocab_size, top_n=5):\n",
    "    p = np.squeeze(preds)\n",
    "    p[np.argsort(p)[:-top_n]] = 0\n",
    "    p = p / np.sum(p)\n",
    "    c = np.random.choice(vocab_size, 1, p=p)[0]\n",
    "    return c"
   ]
  },
  {
   "cell_type": "code",
   "execution_count": 41,
   "metadata": {
    "collapsed": true
   },
   "outputs": [],
   "source": [
    "def sample(checkpoint, n_samples, lstm_size, vocab_size, prime=\"The \"):\n",
    "    samples = [c for c in prime]\n",
    "    model = build_rnn(vocab_size, lstm_size=lstm_size, sampling=True)\n",
    "    saver = tf.train.Saver()\n",
    "    with tf.Session() as sess:\n",
    "        saver.restore(sess, checkpoint)\n",
    "        new_state = sess.run(model.initial_state)\n",
    "        for c in prime:\n",
    "            x = np.zeros((1, 1))\n",
    "            x[0,0] = vocab_to_int[c]\n",
    "            feed = {model.inputs: x,\n",
    "                    model.keep_prob: 1.,\n",
    "                    model.initial_state: new_state}\n",
    "            preds, new_state = sess.run([model.preds, model.final_state], \n",
    "                                         feed_dict=feed)\n",
    "\n",
    "        c = pick_top_n(preds, len(vocab))\n",
    "        samples.append(int_to_vocab[c])\n",
    "\n",
    "        for i in range(n_samples):\n",
    "            x[0,0] = c\n",
    "            feed = {model.inputs: x,\n",
    "                    model.keep_prob: 1.,\n",
    "                    model.initial_state: new_state}\n",
    "            preds, new_state = sess.run([model.preds, model.final_state], \n",
    "                                         feed_dict=feed)\n",
    "\n",
    "            c = pick_top_n(preds, len(vocab))\n",
    "            samples.append(int_to_vocab[c])\n",
    "        \n",
    "    return ''.join(samples)"
   ]
  },
  {
   "cell_type": "markdown",
   "metadata": {},
   "source": [
    "Here, pass in the path to a checkpoint and sample from the network."
   ]
  },
  {
   "cell_type": "code",
   "execution_count": null,
   "metadata": {
    "collapsed": false
   },
   "outputs": [],
   "source": [
    "checkpoint = \"checkpoints/____.ckpt\"\n",
    "samp = sample(checkpoint, 2000, lstm_size, len(vocab), prime=\"Far\")\n",
    "print(samp)"
   ]
  }
 ],
 "metadata": {
  "kernelspec": {
   "display_name": "Python 3",
   "language": "python",
   "name": "python3"
  },
  "language_info": {
   "codemirror_mode": {
    "name": "ipython",
    "version": 3
   },
   "file_extension": ".py",
   "mimetype": "text/x-python",
   "name": "python",
   "nbconvert_exporter": "python",
   "pygments_lexer": "ipython3",
   "version": "3.6.0"
  }
 },
 "nbformat": 4,
 "nbformat_minor": 2
}
